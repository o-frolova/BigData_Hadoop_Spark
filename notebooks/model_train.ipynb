{
  "cells": [
    {
      "cell_type": "markdown",
      "metadata": {
        "id": "oSRMaHQ95F1v"
      },
      "source": [
        "# Requirements"
      ]
    },
    {
      "cell_type": "code",
      "execution_count": 21,
      "metadata": {
        "colab": {
          "base_uri": "https://localhost:8080/"
        },
        "id": "h5BT0fK85CMl",
        "outputId": "e8f6e3e1-55ec-442b-bba0-e409662f6691"
      },
      "outputs": [
        {
          "name": "stdout",
          "output_type": "stream",
          "text": [
            "Requirement already satisfied: pyspark in /usr/local/lib/python3.10/dist-packages (3.5.1)\n",
            "Requirement already satisfied: py4j==0.10.9.7 in /usr/local/lib/python3.10/dist-packages (from pyspark) (0.10.9.7)\n"
          ]
        }
      ],
      "source": [
        "!pip install pyspark"
      ]
    },
    {
      "cell_type": "markdown",
      "metadata": {
        "id": "254PCQYf5OBg"
      },
      "source": [
        "# Import libraries"
      ]
    },
    {
      "cell_type": "code",
      "execution_count": 22,
      "metadata": {
        "id": "DCeQVcaq5RbZ"
      },
      "outputs": [],
      "source": [
        "from google.colab import drive\n",
        "from pyspark.sql import SparkSession\n",
        "from pyspark.sql.functions import lit\n",
        "from pyspark.sql.types import IntegerType\n",
        "from pyspark.ml.feature import StringIndexer, OneHotEncoder\n",
        "from pyspark.ml import Pipeline\n",
        "from pyspark.sql.functions import count, when, isnull,col\n",
        "from pyspark.ml.feature import VectorAssembler\n",
        "from pyspark.ml.regression import RandomForestRegressor\n",
        "from pyspark.ml.evaluation import RegressionEvaluator"
      ]
    },
    {
      "cell_type": "markdown",
      "metadata": {
        "id": "kYUjrtER5dUL"
      },
      "source": [
        "# Spark session"
      ]
    },
    {
      "cell_type": "code",
      "execution_count": 23,
      "metadata": {
        "colab": {
          "base_uri": "https://localhost:8080/",
          "height": 216
        },
        "id": "6ulVLDL55e_L",
        "outputId": "8afab998-cd59-4b73-fb3e-290074aff480"
      },
      "outputs": [
        {
          "data": {
            "text/html": [
              "\n",
              "            <div>\n",
              "                <p><b>SparkSession - in-memory</b></p>\n",
              "                \n",
              "        <div>\n",
              "            <p><b>SparkContext</b></p>\n",
              "\n",
              "            <p><a href=\"http://59dbbaf157f9:4040\">Spark UI</a></p>\n",
              "\n",
              "            <dl>\n",
              "              <dt>Version</dt>\n",
              "                <dd><code>v3.5.1</code></dd>\n",
              "              <dt>Master</dt>\n",
              "                <dd><code>local</code></dd>\n",
              "              <dt>AppName</dt>\n",
              "                <dd><code>model_train</code></dd>\n",
              "            </dl>\n",
              "        </div>\n",
              "        \n",
              "            </div>\n",
              "        "
            ],
            "text/plain": [
              "<pyspark.sql.session.SparkSession at 0x783045b35150>"
            ]
          },
          "execution_count": 23,
          "metadata": {},
          "output_type": "execute_result"
        }
      ],
      "source": [
        "spark = (\n",
        "    SparkSession\n",
        "    .builder\n",
        "    .master('local')\n",
        "    .appName('model_train')\n",
        "    .getOrCreate()\n",
        ")\n",
        "spark"
      ]
    },
    {
      "cell_type": "markdown",
      "metadata": {
        "id": "7QdGNKVg5mLm"
      },
      "source": [
        "# Read data"
      ]
    },
    {
      "cell_type": "code",
      "execution_count": 24,
      "metadata": {
        "colab": {
          "base_uri": "https://localhost:8080/"
        },
        "id": "Ogbat4N15nzQ",
        "outputId": "f8f4279d-8b7e-4fc0-cd5e-b0573a732663"
      },
      "outputs": [
        {
          "name": "stdout",
          "output_type": "stream",
          "text": [
            "Drive already mounted at /content/drive; to attempt to forcibly remount, call drive.mount(\"/content/drive\", force_remount=True).\n"
          ]
        }
      ],
      "source": [
        "drive.mount('/content/drive')"
      ]
    },
    {
      "cell_type": "code",
      "execution_count": 25,
      "metadata": {
        "id": "1Qkk0j4O5q8-"
      },
      "outputs": [],
      "source": [
        "df = spark.read.csv(\"/content/drive/MyDrive/FinalDataset.csv\", header = True)"
      ]
    },
    {
      "cell_type": "code",
      "execution_count": 26,
      "metadata": {
        "colab": {
          "base_uri": "https://localhost:8080/"
        },
        "id": "uMdFU6cL5u8-",
        "outputId": "50db3455-319b-48e6-cc53-66f8550b02d5"
      },
      "outputs": [
        {
          "name": "stdout",
          "output_type": "stream",
          "text": [
            "Number of records: 128144\n"
          ]
        }
      ],
      "source": [
        "print(f'Number of records: {df.count()}')"
      ]
    },
    {
      "cell_type": "code",
      "execution_count": 27,
      "metadata": {
        "colab": {
          "base_uri": "https://localhost:8080/"
        },
        "id": "TCNvvo515w97",
        "outputId": "296e12dc-198f-4471-c7d8-40b6602e18c6"
      },
      "outputs": [
        {
          "name": "stdout",
          "output_type": "stream",
          "text": [
            "+----+-------+--------------------+--------------------+---------------------+--------------------+-----------+-----------------+-------+-----+-------+---------+\n",
            "| age|user_id|         region_name|           city_name|cpe_manufacturer_name|      cpe_model_name|cpe_type_cd|cpe_model_os_type|  price|count|Sum_req|PartofDay|\n",
            "+----+-------+--------------------+--------------------+---------------------+--------------------+-----------+-----------------+-------+-----+-------+---------+\n",
            "|31.0| 350459|Удмуртская Респуб...|              Ижевск|               Xiaomi|        Redmi Note 7| smartphone|          Android|14948.0|  178|    240|      day|\n",
            "|35.0| 188276|Ленинградская обл...|               Тосно|              Samsung| Galaxy A8 2018 Dual| smartphone|          Android|11434.0|  111|    157|  evening|\n",
            "|41.0|  99002|  Пензенская область|            Заречный|               Huawei|            Honor 8X| smartphone|          Android|18288.0|  639|    856|      day|\n",
            "|33.0| 155506|  Краснодарский край|           Краснодар|                Apple|       iPhone 7 Plus| smartphone|              iOS|37090.0|   22|     38|  morning|\n",
            "|54.0| 213873|  Краснодарский край|           Краснодар|               Huawei|            Honor 6A| smartphone|          Android| 8987.0|    4|      4|  morning|\n",
            "|63.0| 212300|  Краснодарский край|             Армавир|              Samsung|       Galaxy S20 FE| smartphone|          Android|41990.0| 2628|   4571|  evening|\n",
            "|33.0| 268755|     Санкт-Петербург|     Санкт-Петербург|                Apple|            iPhone 7| smartphone|              iOS|36706.0| 1394|   2381|      day|\n",
            "|39.0| 350740|   Рязанская область|              Рязань|                Apple|            iPhone 6| smartphone|              iOS|20990.0|  144|    172|      day|\n",
            "|27.0| 357123|      Алтайский край|             Барнаул|              Samsung|      Galaxy A32 LTE| smartphone|          Android|21029.0|   13|     14|      day|\n",
            "|66.0| 113057|    Хабаровский край|Комсомольск-на-Амуре|              Samsung|          Galaxy A31| smartphone|          Android|17579.0|   89|    126|      day|\n",
            "|48.0| 275794|  Краснодарский край|                Сочи|              Samsung|  Galaxy A3 LTE Dual| smartphone|          Android|14990.0|    4|      5|      day|\n",
            "|27.0| 125722|Удмуртская Респуб...|            Воткинск|                Apple|           iPhone 6S| smartphone|              iOS|19922.0|  664|    940|      day|\n",
            "|41.0|  29286|    Амурская область|        Благовещенск|              Samsung|Galaxy A01 Dual G...| smartphone|          Android| 6814.0|    2|      2|  morning|\n",
            "|35.0| 298247|Калининградская о...|         Калининград|               Huawei|           P Smart Z| smartphone|          Android|14069.0|  290|    349|      day|\n",
            "|60.0| 273008|       Пермский край|               Пермь|                Apple|            iPhone 7| smartphone|              iOS|30114.0| 2431|   4572|  evening|\n",
            "|35.0| 371831|   Самарская область|              Самара|              Samsung|     Galaxy A51 Dual| smartphone|          Android|19734.0| 3019|   5837|  evening|\n",
            "|21.0| 217720|              Москва|              Москва|                Apple|           iPhone XR| smartphone|              iOS|59990.0|   82|     95|  evening|\n",
            "|47.0| 155453|Нижегородская обл...|     Нижний Новгород|               Huawei|            Honor 8X| smartphone|          Android|13649.0|   51|     69|  morning|\n",
            "|36.0| 141895|  Курганская область|              Курган|               Huawei|       Honor 10 Lite| smartphone|          Android|13301.0|  472|    602|      day|\n",
            "|31.0|  50317|Республика Башкор...|          Нефтекамск|               Huawei|            Honor 8X| smartphone|          Android|14845.0|  727|   1083|  morning|\n",
            "+----+-------+--------------------+--------------------+---------------------+--------------------+-----------+-----------------+-------+-----+-------+---------+\n",
            "only showing top 20 rows\n",
            "\n"
          ]
        }
      ],
      "source": [
        "df.show()"
      ]
    },
    {
      "cell_type": "markdown",
      "metadata": {
        "id": "CV3uOKrU57ia"
      },
      "source": [
        "# Preprocessing"
      ]
    },
    {
      "cell_type": "code",
      "execution_count": 28,
      "metadata": {
        "id": "1sh4ti4I55n4"
      },
      "outputs": [],
      "source": [
        "COLUMNS_NAME = ['age', 'user_id', 'region_name', 'city_name', 'cpe_manufacturer_name',\n",
        "                'cpe_model_name', 'cpe_type_cd', 'cpe_model_os_type', 'price', 'count',\n",
        "                'Sum_req', 'PartofDay']"
      ]
    },
    {
      "cell_type": "code",
      "execution_count": 29,
      "metadata": {
        "id": "erApO0mf6Bbu"
      },
      "outputs": [],
      "source": [
        "\n",
        "def full_nan_value_pyspark(dataset):\n",
        "    return dataset.na.fill(0)\n",
        "\n",
        "def convert_value_to_int_pyspark(dataset):\n",
        "    columns = ['age', 'user_id', 'price', 'count','Sum_req']\n",
        "    for column in columns:\n",
        "        dataset = dataset.withColumn(column, dataset[column].cast(IntegerType()))\n",
        "    return dataset\n",
        "\n",
        "def removing_unnecessary_columns_pyspark(dataset):\n",
        "    columns_to_drop = ['city_name', 'cpe_model_os_type', 'cpe_model_name', 'region_name', 'cpe_manufacturer_name', 'cpe_type_cd', 'PartofDay']\n",
        "    dataset = dataset.drop(*columns_to_drop)\n",
        "    return dataset\n",
        "\n",
        "def concert_categorical_data_pyspark(dataset):\n",
        "    categorical_features = ['region_name', 'cpe_manufacturer_name', 'cpe_type_cd', 'PartofDay']\n",
        "\n",
        "    indexers = [StringIndexer(inputCol=column, outputCol=column + \"_index\") for column in categorical_features]\n",
        "\n",
        "    encoders = [OneHotEncoder(inputCol=indexer.getOutputCol(), outputCol=column + \"_encoded\") for indexer, column in zip(indexers, categorical_features)]\n",
        "\n",
        "    pipeline = Pipeline(stages=indexers + encoders)\n",
        "\n",
        "    model = pipeline.fit(dataset)\n",
        "    dataset = model.transform(dataset)\n",
        "\n",
        "    for column in categorical_features:\n",
        "        dataset = dataset.drop(column)\n",
        "        dataset = dataset.drop(column + \"_index\")\n",
        "\n",
        "    return dataset\n"
      ]
    },
    {
      "cell_type": "code",
      "execution_count": 30,
      "metadata": {
        "id": "eznVebYR6GiJ"
      },
      "outputs": [],
      "source": [
        "df = full_nan_value_pyspark(df)\n",
        "df = concert_categorical_data_pyspark(df)\n",
        "df = removing_unnecessary_columns_pyspark(df)\n",
        "df = convert_value_to_int_pyspark(df)\n",
        "df = df.filter(col(\"price\").isNotNull())"
      ]
    },
    {
      "cell_type": "code",
      "execution_count": 31,
      "metadata": {
        "colab": {
          "base_uri": "https://localhost:8080/"
        },
        "id": "gQ_dgZTs6ILM",
        "outputId": "33898734-9641-4eb7-9055-59e622c9f736"
      },
      "outputs": [
        {
          "name": "stdout",
          "output_type": "stream",
          "text": [
            "                               0\n",
            "age                            0\n",
            "user_id                        0\n",
            "price                          0\n",
            "count                          0\n",
            "Sum_req                        0\n",
            "region_name_encoded            0\n",
            "cpe_manufacturer_name_encoded  0\n",
            "cpe_type_cd_encoded            0\n",
            "PartofDay_encoded              0\n"
          ]
        }
      ],
      "source": [
        "null_counts = df.select([count(when(isnull(c), c)).alias(c) for c in df.columns]).toPandas().transpose()\n",
        "print(null_counts)"
      ]
    },
    {
      "cell_type": "code",
      "execution_count": 32,
      "metadata": {
        "colab": {
          "base_uri": "https://localhost:8080/"
        },
        "id": "yZsoVyIK6Kl2",
        "outputId": "64ae2e52-c138-45eb-d771-261cb0601ad7"
      },
      "outputs": [
        {
          "name": "stdout",
          "output_type": "stream",
          "text": [
            "Number of records after data preprocessing: 124858\n"
          ]
        }
      ],
      "source": [
        "print(f'Number of records after data preprocessing: {df.count()}')"
      ]
    },
    {
      "cell_type": "code",
      "execution_count": 33,
      "metadata": {
        "colab": {
          "base_uri": "https://localhost:8080/"
        },
        "id": "7-jhIOMx6RU3",
        "outputId": "1f8d088d-b4d1-45fd-c8f9-f5d10b2f3e8c"
      },
      "outputs": [
        {
          "name": "stdout",
          "output_type": "stream",
          "text": [
            "+---+-------+-----+-----+-------+-------------------+-----------------------------+-------------------+-----------------+\n",
            "|age|user_id|price|count|Sum_req|region_name_encoded|cpe_manufacturer_name_encoded|cpe_type_cd_encoded|PartofDay_encoded|\n",
            "+---+-------+-----+-----+-------+-------------------+-----------------------------+-------------------+-----------------+\n",
            "| 31| 350459|14948|  178|    240|    (79,[17],[1.0])|               (36,[3],[1.0])|      (3,[0],[1.0])|    (3,[0],[1.0])|\n",
            "| 35| 188276|11434|  111|    157|    (79,[23],[1.0])|               (36,[1],[1.0])|      (3,[0],[1.0])|    (3,[1],[1.0])|\n",
            "| 41|  99002|18288|  639|    856|    (79,[54],[1.0])|               (36,[2],[1.0])|      (3,[0],[1.0])|    (3,[0],[1.0])|\n",
            "| 33| 155506|37090|   22|     38|     (79,[1],[1.0])|               (36,[0],[1.0])|      (3,[0],[1.0])|    (3,[2],[1.0])|\n",
            "| 54| 213873| 8987|    4|      4|     (79,[1],[1.0])|               (36,[2],[1.0])|      (3,[0],[1.0])|    (3,[2],[1.0])|\n",
            "| 63| 212300|41990| 2628|   4571|     (79,[1],[1.0])|               (36,[1],[1.0])|      (3,[0],[1.0])|    (3,[1],[1.0])|\n",
            "| 33| 268755|36706| 1394|   2381|     (79,[2],[1.0])|               (36,[0],[1.0])|      (3,[0],[1.0])|    (3,[0],[1.0])|\n",
            "| 39| 350740|20990|  144|    172|    (79,[26],[1.0])|               (36,[0],[1.0])|      (3,[0],[1.0])|    (3,[0],[1.0])|\n",
            "| 27| 357123|21029|   13|     14|    (79,[21],[1.0])|               (36,[1],[1.0])|      (3,[0],[1.0])|    (3,[0],[1.0])|\n",
            "| 66| 113057|17579|   89|    126|    (79,[11],[1.0])|               (36,[1],[1.0])|      (3,[0],[1.0])|    (3,[0],[1.0])|\n",
            "| 48| 275794|14990|    4|      5|     (79,[1],[1.0])|               (36,[1],[1.0])|      (3,[0],[1.0])|    (3,[0],[1.0])|\n",
            "| 27| 125722|19922|  664|    940|    (79,[17],[1.0])|               (36,[0],[1.0])|      (3,[0],[1.0])|    (3,[0],[1.0])|\n",
            "| 41|  29286| 6814|    2|      2|    (79,[25],[1.0])|               (36,[1],[1.0])|      (3,[0],[1.0])|    (3,[2],[1.0])|\n",
            "| 35| 298247|14069|  290|    349|    (79,[31],[1.0])|               (36,[2],[1.0])|      (3,[0],[1.0])|    (3,[0],[1.0])|\n",
            "| 60| 273008|30114| 2431|   4572|    (79,[13],[1.0])|               (36,[0],[1.0])|      (3,[0],[1.0])|    (3,[1],[1.0])|\n",
            "| 35| 371831|19734| 3019|   5837|     (79,[9],[1.0])|               (36,[1],[1.0])|      (3,[0],[1.0])|    (3,[1],[1.0])|\n",
            "| 21| 217720|59990|   82|     95|     (79,[0],[1.0])|               (36,[0],[1.0])|      (3,[0],[1.0])|    (3,[1],[1.0])|\n",
            "| 47| 155453|13649|   51|     69|    (79,[15],[1.0])|               (36,[2],[1.0])|      (3,[0],[1.0])|    (3,[2],[1.0])|\n",
            "| 36| 141895|13301|  472|    602|    (79,[37],[1.0])|               (36,[2],[1.0])|      (3,[0],[1.0])|    (3,[0],[1.0])|\n",
            "| 31|  50317|14845|  727|   1083|     (79,[4],[1.0])|               (36,[2],[1.0])|      (3,[0],[1.0])|    (3,[2],[1.0])|\n",
            "+---+-------+-----+-----+-------+-------------------+-----------------------------+-------------------+-----------------+\n",
            "only showing top 20 rows\n",
            "\n"
          ]
        }
      ],
      "source": [
        "df.show()"
      ]
    },
    {
      "cell_type": "markdown",
      "metadata": {
        "id": "Zs7cZdWc6UlJ"
      },
      "source": [
        "# Model train"
      ]
    },
    {
      "cell_type": "code",
      "execution_count": 34,
      "metadata": {
        "id": "bieUwmwn6TFX"
      },
      "outputs": [],
      "source": [
        "feature_columns = ['user_id',  'price', 'count', 'Sum_req', 'region_name_encoded', 'cpe_manufacturer_name_encoded', 'cpe_type_cd_encoded', 'PartofDay_encoded']  # список ваших признаков\n",
        "assembler = VectorAssembler(inputCols=feature_columns, outputCol=\"features\")\n",
        "df = assembler.transform(df)\n",
        "train_data, test_data = df.randomSplit([0.7, 0.3], seed=42)"
      ]
    },
    {
      "cell_type": "code",
      "execution_count": 35,
      "metadata": {
        "id": "PJyYCnUE6YUp"
      },
      "outputs": [],
      "source": [
        "rf = RandomForestRegressor(featuresCol=\"features\", labelCol=\"age\")\n",
        "model = rf.fit(train_data)"
      ]
    },
    {
      "cell_type": "code",
      "execution_count": 36,
      "metadata": {
        "colab": {
          "base_uri": "https://localhost:8080/"
        },
        "id": "l5vYeEBS6Z4R",
        "outputId": "4912d9f5-5d40-4304-bb69-bd8f0ca8cd9a"
      },
      "outputs": [
        {
          "name": "stdout",
          "output_type": "stream",
          "text": [
            "Root Mean Squared Error (RMSE) on test data: 11.054473107138017\n"
          ]
        }
      ],
      "source": [
        "predictions = model.transform(test_data)\n",
        "evaluator = RegressionEvaluator(labelCol=\"age\", predictionCol=\"prediction\", metricName=\"rmse\")\n",
        "rmse = evaluator.evaluate(predictions)\n",
        "print(f\"Root Mean Squared Error (RMSE) on test data: {rmse}\")"
      ]
    },
    {
      "cell_type": "markdown",
      "metadata": {
        "id": "sSOlDLTv6cKg"
      },
      "source": [
        "# Save model"
      ]
    },
    {
      "cell_type": "code",
      "execution_count": 39,
      "metadata": {
        "id": "vzrWVZpp6dTn"
      },
      "outputs": [],
      "source": [
        "model_path = \"random_forest_model\"\n",
        "model.save(model_path)"
      ]
    },
    {
      "cell_type": "markdown",
      "metadata": {
        "id": "wiK7VnmG6jEl"
      },
      "source": [
        "# Stop spark application"
      ]
    },
    {
      "cell_type": "code",
      "execution_count": 40,
      "metadata": {
        "id": "qfMIWkFd6k8q"
      },
      "outputs": [],
      "source": [
        "spark.stop()"
      ]
    }
  ],
  "metadata": {
    "colab": {
      "provenance": []
    },
    "kernelspec": {
      "display_name": "Python 3",
      "name": "python3"
    },
    "language_info": {
      "name": "python"
    }
  },
  "nbformat": 4,
  "nbformat_minor": 0
}
